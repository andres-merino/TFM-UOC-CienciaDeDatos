{
 "cells": [
  {
   "cell_type": "markdown",
   "metadata": {},
   "source": [
    "# YOLOv5 - Prediccion - Cross Validation\n"
   ]
  },
  {
   "cell_type": "markdown",
   "metadata": {},
   "source": [
    "En este notebook, se desarrolla la predicción del modelo YOLOv5 para la detección de insectos en fotografías de plantas, destinado a generar una red de polinizadores. "
   ]
  },
  {
   "cell_type": "markdown",
   "metadata": {},
   "source": [
    "## Paquetes"
   ]
  },
  {
   "cell_type": "code",
   "execution_count": 1,
   "metadata": {},
   "outputs": [],
   "source": [
    "# import torch\n",
    "# from yolov5 import YOLOv5\n",
    "import pandas as pd\n",
    "import os\n",
    "import seaborn as sns\n",
    "import matplotlib.pyplot as plt\n",
    "\n",
    "from sklearn.metrics import classification_report"
   ]
  },
  {
   "cell_type": "code",
   "execution_count": 5,
   "metadata": {},
   "outputs": [],
   "source": [
    "import pathlib\n",
    "temp = pathlib.PosixPath\n",
    "pathlib.PosixPath = pathlib.WindowsPath"
   ]
  },
  {
   "cell_type": "markdown",
   "metadata": {},
   "source": [
    "# Modelo entrenado\n"
   ]
  },
  {
   "cell_type": "markdown",
   "metadata": {},
   "source": [
    "Usamos los modelos entrenados con el dataset de plantas e insectos, generados en la validación cruzada."
   ]
  },
  {
   "cell_type": "code",
   "execution_count": 6,
   "metadata": {},
   "outputs": [
    {
     "name": "stderr",
     "output_type": "stream",
     "text": [
      "YOLOv5  2023-12-12 Python-3.8.10 torch-1.13.1+cpu CPU\n",
      "\n",
      "Fusing layers... \n",
      "Model summary: 291 layers, 20895564 parameters, 0 gradients, 48.3 GFLOPs\n",
      "Adding AutoShape... \n"
     ]
    },
    {
     "name": "stdout",
     "output_type": "stream",
     "text": [
      "---------------------------\n",
      "Fold 1\n",
      "Van 500 imágenes\n",
      "Van 1000 imágenes\n",
      "Van 1500 imágenes\n"
     ]
    },
    {
     "name": "stderr",
     "output_type": "stream",
     "text": [
      "YOLOv5  2023-12-12 Python-3.8.10 torch-1.13.1+cpu CPU\n",
      "\n",
      "Fusing layers... \n",
      "Model summary: 291 layers, 20895564 parameters, 0 gradients, 48.3 GFLOPs\n",
      "Adding AutoShape... \n"
     ]
    },
    {
     "name": "stdout",
     "output_type": "stream",
     "text": [
      "---------------------------\n",
      "Fold 2\n",
      "Van 500 imágenes\n",
      "Van 1000 imágenes\n",
      "Van 1500 imágenes\n"
     ]
    },
    {
     "name": "stderr",
     "output_type": "stream",
     "text": [
      "YOLOv5  2023-12-12 Python-3.8.10 torch-1.13.1+cpu CPU\n",
      "\n",
      "Fusing layers... \n",
      "Model summary: 291 layers, 20895564 parameters, 0 gradients, 48.3 GFLOPs\n",
      "Adding AutoShape... \n"
     ]
    },
    {
     "name": "stdout",
     "output_type": "stream",
     "text": [
      "---------------------------\n",
      "Fold 3\n",
      "Van 500 imágenes\n",
      "Van 1000 imágenes\n",
      "Van 1500 imágenes\n"
     ]
    },
    {
     "name": "stderr",
     "output_type": "stream",
     "text": [
      "YOLOv5  2023-12-12 Python-3.8.10 torch-1.13.1+cpu CPU\n",
      "\n",
      "Fusing layers... \n"
     ]
    },
    {
     "name": "stdout",
     "output_type": "stream",
     "text": [
      "---------------------------\n",
      "Fold 4\n"
     ]
    },
    {
     "name": "stderr",
     "output_type": "stream",
     "text": [
      "Model summary: 291 layers, 20895564 parameters, 0 gradients, 48.3 GFLOPs\n",
      "Adding AutoShape... \n"
     ]
    },
    {
     "name": "stdout",
     "output_type": "stream",
     "text": [
      "Van 500 imágenes\n",
      "Van 1000 imágenes\n",
      "Van 1500 imágenes\n"
     ]
    },
    {
     "name": "stderr",
     "output_type": "stream",
     "text": [
      "YOLOv5  2023-12-12 Python-3.8.10 torch-1.13.1+cpu CPU\n",
      "\n",
      "Fusing layers... \n",
      "Model summary: 291 layers, 20895564 parameters, 0 gradients, 48.3 GFLOPs\n",
      "Adding AutoShape... \n"
     ]
    },
    {
     "name": "stdout",
     "output_type": "stream",
     "text": [
      "---------------------------\n",
      "Fold 5\n",
      "Van 500 imágenes\n",
      "Van 1000 imágenes\n",
      "Van 1500 imágenes\n",
      "(8195, 3)\n"
     ]
    },
    {
     "data": {
      "text/html": [
       "<div>\n",
       "<style scoped>\n",
       "    .dataframe tbody tr th:only-of-type {\n",
       "        vertical-align: middle;\n",
       "    }\n",
       "\n",
       "    .dataframe tbody tr th {\n",
       "        vertical-align: top;\n",
       "    }\n",
       "\n",
       "    .dataframe thead th {\n",
       "        text-align: right;\n",
       "    }\n",
       "</style>\n",
       "<table border=\"1\" class=\"dataframe\">\n",
       "  <thead>\n",
       "    <tr style=\"text-align: right;\">\n",
       "      <th></th>\n",
       "      <th>imagen</th>\n",
       "      <th>deteccion</th>\n",
       "      <th>nivel</th>\n",
       "    </tr>\n",
       "  </thead>\n",
       "  <tbody>\n",
       "    <tr>\n",
       "      <th>0</th>\n",
       "      <td>00068ee5e4632cf05be16306f00aa51b.jpg</td>\n",
       "      <td>Diptera</td>\n",
       "      <td>0.692360</td>\n",
       "    </tr>\n",
       "    <tr>\n",
       "      <th>1</th>\n",
       "      <td>0065808ec8a40acb4dbaf1a855045a1b.jpg</td>\n",
       "      <td>no_detection</td>\n",
       "      <td>0.000000</td>\n",
       "    </tr>\n",
       "    <tr>\n",
       "      <th>2</th>\n",
       "      <td>00720ef5141a225e95a973c785e5292b.jpg</td>\n",
       "      <td>Wasp</td>\n",
       "      <td>0.412539</td>\n",
       "    </tr>\n",
       "    <tr>\n",
       "      <th>3</th>\n",
       "      <td>00ad5ae0ef6fe82cad95e54e8f478857.jpg</td>\n",
       "      <td>Wasp</td>\n",
       "      <td>0.676793</td>\n",
       "    </tr>\n",
       "    <tr>\n",
       "      <th>4</th>\n",
       "      <td>00ad5ae0ef6fe82cad95e54e8f478857_reflejada1.jpg</td>\n",
       "      <td>Wasp</td>\n",
       "      <td>0.768994</td>\n",
       "    </tr>\n",
       "  </tbody>\n",
       "</table>\n",
       "</div>"
      ],
      "text/plain": [
       "                                            imagen     deteccion     nivel\n",
       "0             00068ee5e4632cf05be16306f00aa51b.jpg       Diptera  0.692360\n",
       "1             0065808ec8a40acb4dbaf1a855045a1b.jpg  no_detection  0.000000\n",
       "2             00720ef5141a225e95a973c785e5292b.jpg          Wasp  0.412539\n",
       "3             00ad5ae0ef6fe82cad95e54e8f478857.jpg          Wasp  0.676793\n",
       "4  00ad5ae0ef6fe82cad95e54e8f478857_reflejada1.jpg          Wasp  0.768994"
      ]
     },
     "metadata": {},
     "output_type": "display_data"
    }
   ],
   "source": [
    "# Imágenes de test\n",
    "images = os.listdir('test')\n",
    "\n",
    "# Dataframe vacío\n",
    "df = pd.DataFrame({'imagen': [], 'deteccion': [], 'nivel': []})\n",
    "for m in range(1, 6):\n",
    "    print(\"---------------------------\")\n",
    "    print(\"Fold\", m)\n",
    "    model = YOLOv5(f\"yolov5m_fold{m}/weights/best.pt\", device=\"cpu\") \n",
    "    # Recorro las imágenes de validación\n",
    "    detecciones = []\n",
    "    niveles = []\n",
    "    k = 0\n",
    "    for img in images:\n",
    "        # Obtengo la predicción\n",
    "        results = model.predict(\"test/\" + img)\n",
    "        # Procesar los resultados\n",
    "        detection = results.pandas().xyxy[0]\n",
    "        # Tomar la detección con mayor confianza\n",
    "        detection = detection[detection[\"confidence\"] == detection[\"confidence\"].max()]\n",
    "        # Guardo la detección\n",
    "        try:\n",
    "            nivel = detection[\"confidence\"].values[0]\n",
    "            detection = detection[\"name\"].values[0]\n",
    "        except:\n",
    "            detection = 'no_detection'\n",
    "            nivel = 0\n",
    "        # Guardo la detección\n",
    "        detecciones.append(detection)\n",
    "        niveles.append(nivel)\n",
    "        k += 1\n",
    "        if k%500 == 0:\n",
    "            print(f\"Van {k} imágenes\")\n",
    "\n",
    "    # Genero el dataframe con las imagenes y las detecciones\n",
    "    df_temp = pd.DataFrame({'imagen': images, 'deteccion': detecciones, 'nivel': niveles})\n",
    "    # Concateno los dataframes\n",
    "    df = pd.concat([df, df_temp])\n",
    "# Reinicio los índices\n",
    "df.reset_index(drop=True, inplace=True)\n",
    "# Reviso los resultados\n",
    "print(df.shape)\n",
    "display(df.head())"
   ]
  },
  {
   "cell_type": "markdown",
   "metadata": {},
   "source": [
    "Unimos con la información de las imágenes."
   ]
  },
  {
   "cell_type": "code",
   "execution_count": 7,
   "metadata": {},
   "outputs": [
    {
     "name": "stdout",
     "output_type": "stream",
     "text": [
      "(9630, 4)\n"
     ]
    },
    {
     "data": {
      "text/html": [
       "<div>\n",
       "<style scoped>\n",
       "    .dataframe tbody tr th:only-of-type {\n",
       "        vertical-align: middle;\n",
       "    }\n",
       "\n",
       "    .dataframe tbody tr th {\n",
       "        vertical-align: top;\n",
       "    }\n",
       "\n",
       "    .dataframe thead th {\n",
       "        text-align: right;\n",
       "    }\n",
       "</style>\n",
       "<table border=\"1\" class=\"dataframe\">\n",
       "  <thead>\n",
       "    <tr style=\"text-align: right;\">\n",
       "      <th></th>\n",
       "      <th>imagen</th>\n",
       "      <th>deteccion</th>\n",
       "      <th>nivel</th>\n",
       "      <th>categoría</th>\n",
       "    </tr>\n",
       "  </thead>\n",
       "  <tbody>\n",
       "    <tr>\n",
       "      <th>0</th>\n",
       "      <td>00068ee5e4632cf05be16306f00aa51b.jpg</td>\n",
       "      <td>Diptera</td>\n",
       "      <td>0.692360</td>\n",
       "      <td>Diptera</td>\n",
       "    </tr>\n",
       "    <tr>\n",
       "      <th>1</th>\n",
       "      <td>00068ee5e4632cf05be16306f00aa51b.jpg</td>\n",
       "      <td>Diptera</td>\n",
       "      <td>0.827951</td>\n",
       "      <td>Diptera</td>\n",
       "    </tr>\n",
       "    <tr>\n",
       "      <th>2</th>\n",
       "      <td>00068ee5e4632cf05be16306f00aa51b.jpg</td>\n",
       "      <td>Diptera</td>\n",
       "      <td>0.830186</td>\n",
       "      <td>Diptera</td>\n",
       "    </tr>\n",
       "    <tr>\n",
       "      <th>3</th>\n",
       "      <td>00068ee5e4632cf05be16306f00aa51b.jpg</td>\n",
       "      <td>Diptera</td>\n",
       "      <td>0.886466</td>\n",
       "      <td>Diptera</td>\n",
       "    </tr>\n",
       "    <tr>\n",
       "      <th>4</th>\n",
       "      <td>00068ee5e4632cf05be16306f00aa51b.jpg</td>\n",
       "      <td>no_detection</td>\n",
       "      <td>0.000000</td>\n",
       "      <td>Diptera</td>\n",
       "    </tr>\n",
       "  </tbody>\n",
       "</table>\n",
       "</div>"
      ],
      "text/plain": [
       "                                 imagen     deteccion     nivel categoría\n",
       "0  00068ee5e4632cf05be16306f00aa51b.jpg       Diptera  0.692360   Diptera\n",
       "1  00068ee5e4632cf05be16306f00aa51b.jpg       Diptera  0.827951   Diptera\n",
       "2  00068ee5e4632cf05be16306f00aa51b.jpg       Diptera  0.830186   Diptera\n",
       "3  00068ee5e4632cf05be16306f00aa51b.jpg       Diptera  0.886466   Diptera\n",
       "4  00068ee5e4632cf05be16306f00aa51b.jpg  no_detection  0.000000   Diptera"
      ]
     },
     "metadata": {},
     "output_type": "display_data"
    }
   ],
   "source": [
    "# Leo el dataset\n",
    "data = pd.read_csv('info_imagenes_cat.csv')\n",
    "data = data[['imagen', 'categoría']]\n",
    "# Diccionario de categorias \n",
    "cat = { 0: 'Bee', 1: 'Lepidoptera', 2: 'Diptera', 3: 'Coleoptera', 4: 'Others', 5: 'Wasp', 6: 'Hoverfly'}\n",
    "# Cambio las categorias por números\n",
    "data['categoría'] = data['categoría'].map(cat)\n",
    "# Merge\n",
    "df = pd.merge(df, data, on='imagen')\n",
    "# Reviso\n",
    "print(df.shape)\n",
    "display(df.head(5))\n",
    "# Guardo\n",
    "df.to_csv('detecciones-crossval.csv', index=False)"
   ]
  },
  {
   "cell_type": "markdown",
   "metadata": {},
   "source": [
    "Seleccionamos como detección la de mayor confianza promedio de los modelos."
   ]
  },
  {
   "cell_type": "code",
   "execution_count": 2,
   "metadata": {},
   "outputs": [
    {
     "data": {
      "text/html": [
       "<div>\n",
       "<style scoped>\n",
       "    .dataframe tbody tr th:only-of-type {\n",
       "        vertical-align: middle;\n",
       "    }\n",
       "\n",
       "    .dataframe tbody tr th {\n",
       "        vertical-align: top;\n",
       "    }\n",
       "\n",
       "    .dataframe thead th {\n",
       "        text-align: right;\n",
       "    }\n",
       "</style>\n",
       "<table border=\"1\" class=\"dataframe\">\n",
       "  <thead>\n",
       "    <tr style=\"text-align: right;\">\n",
       "      <th></th>\n",
       "      <th>imagen</th>\n",
       "      <th>deteccion</th>\n",
       "      <th>nivel</th>\n",
       "      <th>categoría</th>\n",
       "    </tr>\n",
       "  </thead>\n",
       "  <tbody>\n",
       "    <tr>\n",
       "      <th>0</th>\n",
       "      <td>00068ee5e4632cf05be16306f00aa51b.jpg</td>\n",
       "      <td>Diptera</td>\n",
       "      <td>0.692360</td>\n",
       "      <td>Diptera</td>\n",
       "    </tr>\n",
       "    <tr>\n",
       "      <th>1</th>\n",
       "      <td>00068ee5e4632cf05be16306f00aa51b.jpg</td>\n",
       "      <td>Diptera</td>\n",
       "      <td>0.827951</td>\n",
       "      <td>Diptera</td>\n",
       "    </tr>\n",
       "    <tr>\n",
       "      <th>2</th>\n",
       "      <td>00068ee5e4632cf05be16306f00aa51b.jpg</td>\n",
       "      <td>Diptera</td>\n",
       "      <td>0.830186</td>\n",
       "      <td>Diptera</td>\n",
       "    </tr>\n",
       "    <tr>\n",
       "      <th>3</th>\n",
       "      <td>00068ee5e4632cf05be16306f00aa51b.jpg</td>\n",
       "      <td>Diptera</td>\n",
       "      <td>0.886466</td>\n",
       "      <td>Diptera</td>\n",
       "    </tr>\n",
       "    <tr>\n",
       "      <th>4</th>\n",
       "      <td>00068ee5e4632cf05be16306f00aa51b.jpg</td>\n",
       "      <td>no_detection</td>\n",
       "      <td>0.000000</td>\n",
       "      <td>Diptera</td>\n",
       "    </tr>\n",
       "    <tr>\n",
       "      <th>5</th>\n",
       "      <td>0065808ec8a40acb4dbaf1a855045a1b.jpg</td>\n",
       "      <td>no_detection</td>\n",
       "      <td>0.000000</td>\n",
       "      <td>Bee</td>\n",
       "    </tr>\n",
       "    <tr>\n",
       "      <th>6</th>\n",
       "      <td>0065808ec8a40acb4dbaf1a855045a1b.jpg</td>\n",
       "      <td>no_detection</td>\n",
       "      <td>0.000000</td>\n",
       "      <td>Bee</td>\n",
       "    </tr>\n",
       "    <tr>\n",
       "      <th>7</th>\n",
       "      <td>0065808ec8a40acb4dbaf1a855045a1b.jpg</td>\n",
       "      <td>no_detection</td>\n",
       "      <td>0.000000</td>\n",
       "      <td>Bee</td>\n",
       "    </tr>\n",
       "    <tr>\n",
       "      <th>8</th>\n",
       "      <td>0065808ec8a40acb4dbaf1a855045a1b.jpg</td>\n",
       "      <td>no_detection</td>\n",
       "      <td>0.000000</td>\n",
       "      <td>Bee</td>\n",
       "    </tr>\n",
       "    <tr>\n",
       "      <th>9</th>\n",
       "      <td>0065808ec8a40acb4dbaf1a855045a1b.jpg</td>\n",
       "      <td>Bee</td>\n",
       "      <td>0.866105</td>\n",
       "      <td>Bee</td>\n",
       "    </tr>\n",
       "  </tbody>\n",
       "</table>\n",
       "</div>"
      ],
      "text/plain": [
       "                                 imagen     deteccion     nivel categoría\n",
       "0  00068ee5e4632cf05be16306f00aa51b.jpg       Diptera  0.692360   Diptera\n",
       "1  00068ee5e4632cf05be16306f00aa51b.jpg       Diptera  0.827951   Diptera\n",
       "2  00068ee5e4632cf05be16306f00aa51b.jpg       Diptera  0.830186   Diptera\n",
       "3  00068ee5e4632cf05be16306f00aa51b.jpg       Diptera  0.886466   Diptera\n",
       "4  00068ee5e4632cf05be16306f00aa51b.jpg  no_detection  0.000000   Diptera\n",
       "5  0065808ec8a40acb4dbaf1a855045a1b.jpg  no_detection  0.000000       Bee\n",
       "6  0065808ec8a40acb4dbaf1a855045a1b.jpg  no_detection  0.000000       Bee\n",
       "7  0065808ec8a40acb4dbaf1a855045a1b.jpg  no_detection  0.000000       Bee\n",
       "8  0065808ec8a40acb4dbaf1a855045a1b.jpg  no_detection  0.000000       Bee\n",
       "9  0065808ec8a40acb4dbaf1a855045a1b.jpg           Bee  0.866105       Bee"
      ]
     },
     "metadata": {},
     "output_type": "display_data"
    }
   ],
   "source": [
    "# Leo el dataset\n",
    "df = pd.read_csv('detecciones-crossval.csv')\n",
    "display(df.head(10))"
   ]
  },
  {
   "cell_type": "code",
   "execution_count": 3,
   "metadata": {},
   "outputs": [
    {
     "name": "stdout",
     "output_type": "stream",
     "text": [
      "(1744, 4)\n"
     ]
    },
    {
     "data": {
      "text/html": [
       "<div>\n",
       "<style scoped>\n",
       "    .dataframe tbody tr th:only-of-type {\n",
       "        vertical-align: middle;\n",
       "    }\n",
       "\n",
       "    .dataframe tbody tr th {\n",
       "        vertical-align: top;\n",
       "    }\n",
       "\n",
       "    .dataframe thead th {\n",
       "        text-align: right;\n",
       "    }\n",
       "</style>\n",
       "<table border=\"1\" class=\"dataframe\">\n",
       "  <thead>\n",
       "    <tr style=\"text-align: right;\">\n",
       "      <th></th>\n",
       "      <th>imagen</th>\n",
       "      <th>deteccion</th>\n",
       "      <th>categoría</th>\n",
       "      <th>nivel</th>\n",
       "    </tr>\n",
       "  </thead>\n",
       "  <tbody>\n",
       "    <tr>\n",
       "      <th>0</th>\n",
       "      <td>00068ee5e4632cf05be16306f00aa51b.jpg</td>\n",
       "      <td>Diptera</td>\n",
       "      <td>Diptera</td>\n",
       "      <td>0.809241</td>\n",
       "    </tr>\n",
       "    <tr>\n",
       "      <th>2</th>\n",
       "      <td>0065808ec8a40acb4dbaf1a855045a1b.jpg</td>\n",
       "      <td>Bee</td>\n",
       "      <td>Bee</td>\n",
       "      <td>0.866105</td>\n",
       "    </tr>\n",
       "    <tr>\n",
       "      <th>4</th>\n",
       "      <td>00720ef5141a225e95a973c785e5292b.jpg</td>\n",
       "      <td>Wasp</td>\n",
       "      <td>Bee</td>\n",
       "      <td>0.569838</td>\n",
       "    </tr>\n",
       "    <tr>\n",
       "      <th>6</th>\n",
       "      <td>00ad5ae0ef6fe82cad95e54e8f478857.jpg</td>\n",
       "      <td>Wasp</td>\n",
       "      <td>Wasp</td>\n",
       "      <td>0.744994</td>\n",
       "    </tr>\n",
       "    <tr>\n",
       "      <th>7</th>\n",
       "      <td>00ad5ae0ef6fe82cad95e54e8f478857_reflejada1.jpg</td>\n",
       "      <td>Wasp</td>\n",
       "      <td>Wasp</td>\n",
       "      <td>0.741251</td>\n",
       "    </tr>\n",
       "  </tbody>\n",
       "</table>\n",
       "</div>"
      ],
      "text/plain": [
       "                                            imagen deteccion categoría  \\\n",
       "0             00068ee5e4632cf05be16306f00aa51b.jpg   Diptera   Diptera   \n",
       "2             0065808ec8a40acb4dbaf1a855045a1b.jpg       Bee       Bee   \n",
       "4             00720ef5141a225e95a973c785e5292b.jpg      Wasp       Bee   \n",
       "6             00ad5ae0ef6fe82cad95e54e8f478857.jpg      Wasp      Wasp   \n",
       "7  00ad5ae0ef6fe82cad95e54e8f478857_reflejada1.jpg      Wasp      Wasp   \n",
       "\n",
       "      nivel  \n",
       "0  0.809241  \n",
       "2  0.866105  \n",
       "4  0.569838  \n",
       "6  0.744994  \n",
       "7  0.741251  "
      ]
     },
     "execution_count": 3,
     "metadata": {},
     "output_type": "execute_result"
    }
   ],
   "source": [
    "# Agrupo por media de nivel\n",
    "df = df.groupby(['imagen', 'deteccion', 'categoría']).agg({'nivel': 'mean'}).reset_index()\n",
    "# Tomo la detección con mayor nivel\n",
    "df = df.sort_values(by='nivel', ascending=False).drop_duplicates(subset=['imagen', 'categoría'])\n",
    "# Ordeno por index\n",
    "df.sort_index(inplace=True)\n",
    "# Reviso\n",
    "print(df.shape)\n",
    "df.head(5)"
   ]
  },
  {
   "cell_type": "markdown",
   "metadata": {},
   "source": [
    "Guardo los resultados en un archivo csv."
   ]
  },
  {
   "cell_type": "code",
   "execution_count": 4,
   "metadata": {},
   "outputs": [],
   "source": [
    "# Guardo el dataframe\n",
    "df.to_csv('test_yolov5m_crossval.csv', index=False)"
   ]
  },
  {
   "cell_type": "markdown",
   "metadata": {},
   "source": [
    "Calculo las métricas de desempeño."
   ]
  },
  {
   "cell_type": "code",
   "execution_count": 5,
   "metadata": {},
   "outputs": [
    {
     "name": "stdout",
     "output_type": "stream",
     "text": [
      "              precision    recall  f1-score   support\n",
      "\n",
      "         Bee       0.89      0.69      0.78       549\n",
      "  Coleoptera       0.91      0.55      0.68       291\n",
      "     Diptera       0.85      0.70      0.77       369\n",
      "    Hoverfly       0.32      0.70      0.44        10\n",
      " Lepidoptera       0.96      0.78      0.86       236\n",
      "      Others       0.68      0.57      0.62       185\n",
      "        Wasp       0.75      0.77      0.76       104\n",
      "no_detection       0.00      0.00      0.00         0\n",
      "\n",
      "    accuracy                           0.67      1744\n",
      "   macro avg       0.67      0.60      0.61      1744\n",
      "weighted avg       0.86      0.67      0.75      1744\n",
      "\n"
     ]
    },
    {
     "name": "stderr",
     "output_type": "stream",
     "text": [
      "c:\\Users\\aemer\\AppData\\Local\\Programs\\Python\\Python38\\lib\\site-packages\\sklearn\\metrics\\_classification.py:1344: UndefinedMetricWarning: Recall and F-score are ill-defined and being set to 0.0 in labels with no true samples. Use `zero_division` parameter to control this behavior.\n",
      "  _warn_prf(average, modifier, msg_start, len(result))\n",
      "c:\\Users\\aemer\\AppData\\Local\\Programs\\Python\\Python38\\lib\\site-packages\\sklearn\\metrics\\_classification.py:1344: UndefinedMetricWarning: Recall and F-score are ill-defined and being set to 0.0 in labels with no true samples. Use `zero_division` parameter to control this behavior.\n",
      "  _warn_prf(average, modifier, msg_start, len(result))\n",
      "c:\\Users\\aemer\\AppData\\Local\\Programs\\Python\\Python38\\lib\\site-packages\\sklearn\\metrics\\_classification.py:1344: UndefinedMetricWarning: Recall and F-score are ill-defined and being set to 0.0 in labels with no true samples. Use `zero_division` parameter to control this behavior.\n",
      "  _warn_prf(average, modifier, msg_start, len(result))\n"
     ]
    }
   ],
   "source": [
    "# Leo el dataframe\n",
    "df = pd.read_csv('test_yolov5m_crossval.csv')\n",
    "true_labels, predicted_labels = df['categoría'], df['deteccion']\n",
    "print(classification_report(true_labels, predicted_labels))"
   ]
  },
  {
   "cell_type": "markdown",
   "metadata": {},
   "source": [
    "Matriz de confusión."
   ]
  },
  {
   "cell_type": "code",
   "execution_count": 6,
   "metadata": {},
   "outputs": [
    {
     "data": {
      "text/plain": [
       "<AxesSubplot: xlabel='Detección', ylabel='Categoría'>"
      ]
     },
     "execution_count": 6,
     "metadata": {},
     "output_type": "execute_result"
    },
    {
     "data": {
      "image/png": "[encoded data removed]",
      "text/plain": [
       "<Figure size 640x480 with 2 Axes>"
      ]
     },
     "metadata": {},
     "output_type": "display_data"
    }
   ],
   "source": [
    "tabla = pd.crosstab(df['categoría'], df['deteccion'], normalize='index')\n",
    "# reordeno\n",
    "orden = [\"Hoverfly\", \"Bee\", \"Lepidoptera\", \"Diptera\", \"Coleoptera\", \"Wasp\", \"Others\",  \"no_detection\"]\n",
    "tabla = tabla.reindex(orden[:-1])\n",
    "tabla = tabla[orden]\n",
    "# Nombro a los índices categoría\n",
    "tabla.index.name = 'Categoría'\n",
    "# Nombro a las columnas detección\n",
    "tabla.columns.name = 'Detección'\n",
    "# cambio el nombre de no_detection por background\n",
    "tabla.rename(columns={'no_detection':'Background'}, inplace=True)\n",
    "# display(tabla)\n",
    "sns.heatmap(tabla, cmap=\"Blues\", annot=True, fmt=\".2f\")"
   ]
  }
 ],
 "metadata": {
  "kernelspec": {
   "display_name": "Python 3",
   "language": "python",
   "name": "python3"
  },
  "language_info": {
   "codemirror_mode": {
    "name": "ipython",
    "version": 3
   },
   "file_extension": ".py",
   "mimetype": "text/x-python",
   "name": "python",
   "nbconvert_exporter": "python",
   "pygments_lexer": "ipython3",
   "version": "3.8.10"
  }
 },
 "nbformat": 4,
 "nbformat_minor": 2
}
